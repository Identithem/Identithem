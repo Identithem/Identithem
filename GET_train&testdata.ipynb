{
  "nbformat": 4,
  "nbformat_minor": 0,
  "metadata": {
    "colab": {
      "provenance": []
    },
    "kernelspec": {
      "name": "python3",
      "display_name": "Python 3"
    },
    "language_info": {
      "name": "python"
    }
  },
  "cells": [
    {
      "cell_type": "code",
      "execution_count": 1,
      "metadata": {
        "id": "ptuqGEl-_Vo3"
      },
      "outputs": [],
      "source": [
        "import os\n",
        "import pandas as pd\n",
        "import numpy as np\n",
        "from sklearn.cluster import KMeans, DBSCAN\n",
        "from sklearn.preprocessing import StandardScaler\n",
        "from sklearn.decomposition import PCA\n",
        "import matplotlib.pyplot as plt\n",
        "import matplotlib.cm as cm\n",
        "import seaborn as sns"
      ]
    },
    {
      "cell_type": "code",
      "source": [
        "extracted_dir_path = '/content/Identithem'\n",
        "if not os.path.exists(extracted_dir_path):\n",
        "    !git clone https://github.com/Identithem/Identithem.git\n",
        "else:\n",
        "    print(\"Directory already exists.\")\n",
        "\n",
        "%cd \"/content/Identithem\"\n",
        "!git pull"
      ],
      "metadata": {
        "colab": {
          "base_uri": "https://localhost:8080/"
        },
        "id": "IiRF93fg_7VX",
        "outputId": "940dce5d-1edd-481f-af0d-0971949545ef"
      },
      "execution_count": 2,
      "outputs": [
        {
          "output_type": "stream",
          "name": "stdout",
          "text": [
            "Cloning into 'Identithem'...\n",
            "remote: Enumerating objects: 65, done.\u001b[K\n",
            "remote: Counting objects: 100% (65/65), done.\u001b[K\n",
            "remote: Compressing objects: 100% (57/57), done.\u001b[K\n",
            "remote: Total 65 (delta 21), reused 0 (delta 0), pack-reused 0\u001b[K\n",
            "Receiving objects: 100% (65/65), 57.50 MiB | 10.74 MiB/s, done.\n",
            "Resolving deltas: 100% (21/21), done.\n",
            "/content/Identithem\n",
            "Already up to date.\n"
          ]
        }
      ]
    },
    {
      "cell_type": "code",
      "source": [
        "!unzip \"preprocessed_logs.zip\"\n"
      ],
      "metadata": {
        "colab": {
          "base_uri": "https://localhost:8080/"
        },
        "id": "9YOJlqEMABqu",
        "outputId": "5756d5b6-4f15-4c2e-da6c-dc4eba186166"
      },
      "execution_count": 3,
      "outputs": [
        {
          "output_type": "stream",
          "name": "stdout",
          "text": [
            "Archive:  preprocessed_logs.zip\n",
            "  inflating: preprocessed_logs/logs_20240122.csv  \n",
            "  inflating: preprocessed_logs/logs_20240123.csv  \n",
            "  inflating: preprocessed_logs/logs_20240124.csv  \n",
            "  inflating: preprocessed_logs/logs_20240125.csv  \n",
            "  inflating: preprocessed_logs/logs_20240126.csv  \n",
            "  inflating: preprocessed_logs/logs_20240127.csv  \n",
            "  inflating: preprocessed_logs/logs_20240128.csv  \n",
            "  inflating: preprocessed_logs/logs_20240129.csv  \n"
          ]
        }
      ]
    },
    {
      "cell_type": "code",
      "source": [
        "import pandas as pd\n",
        "import glob\n",
        "\n",
        "# Define file paths\n",
        "train_files = [\n",
        "    \"preprocessed_logs/logs_20240122.csv\",\n",
        "    \"preprocessed_logs/logs_20240123.csv\",\n",
        "    \"preprocessed_logs/logs_20240124.csv\",\n",
        "    \"preprocessed_logs/logs_20240125.csv\",\n",
        "    \"preprocessed_logs/logs_20240126.csv\"\n",
        "]\n",
        "\n",
        "test_files = [\n",
        "    \"preprocessed_logs/logs_20240127.csv\",\n",
        "    \"preprocessed_logs/logs_20240128.csv\",\n",
        "    \"preprocessed_logs/logs_20240129.csv\"\n",
        "]\n",
        "\n",
        "def combine_files(file_list, output_file):\n",
        "    combined_df = pd.DataFrame()\n",
        "\n",
        "    for file in file_list:\n",
        "        if os.path.exists(file):\n",
        "            df = pd.read_csv(file)\n",
        "            combined_df = pd.concat([combined_df, df], ignore_index=True)\n",
        "        else:\n",
        "            print(f\"File not found: {file}\")\n",
        "\n",
        "    if not combined_df.empty:\n",
        "        combined_df.to_csv(output_file, index=False)\n",
        "        print(f\"Combined data saved to {output_file}\")\n",
        "    else:\n",
        "        print(f\"No files were combined for {output_file}\")\n",
        "\n",
        "# Combine files and save to train.csv and test.csv\n",
        "combine_files(train_files, 'train.csv')\n",
        "combine_files(test_files, 'test.csv')"
      ],
      "metadata": {
        "id": "cxTvJUVrBf4-",
        "colab": {
          "base_uri": "https://localhost:8080/"
        },
        "outputId": "44e75018-417b-4a06-c689-c3b340ea612d"
      },
      "execution_count": 11,
      "outputs": [
        {
          "output_type": "stream",
          "name": "stdout",
          "text": [
            "Combined data saved to train.csv\n",
            "Combined data saved to test.csv\n"
          ]
        }
      ]
    },
    {
      "cell_type": "code",
      "source": [
        "train_files"
      ],
      "metadata": {
        "colab": {
          "base_uri": "https://localhost:8080/"
        },
        "id": "5S7TXCajBoCv",
        "outputId": "34c520b2-761c-491e-dacb-ccac49598315"
      },
      "execution_count": 12,
      "outputs": [
        {
          "output_type": "execute_result",
          "data": {
            "text/plain": [
              "['preprocessed_logs/logs_20240122.csv',\n",
              " 'preprocessed_logs/logs_20240123.csv',\n",
              " 'preprocessed_logs/logs_20240124.csv',\n",
              " 'preprocessed_logs/logs_20240125.csv',\n",
              " 'preprocessed_logs/logs_20240126.csv']"
            ]
          },
          "metadata": {},
          "execution_count": 12
        }
      ]
    },
    {
      "cell_type": "code",
      "source": [
        "test_files"
      ],
      "metadata": {
        "id": "wIs4Sd48BqEl",
        "colab": {
          "base_uri": "https://localhost:8080/"
        },
        "outputId": "c311fdd7-5103-4a8e-acad-72c941ac0f2d"
      },
      "execution_count": 13,
      "outputs": [
        {
          "output_type": "execute_result",
          "data": {
            "text/plain": [
              "['preprocessed_logs/logs_20240127.csv',\n",
              " 'preprocessed_logs/logs_20240128.csv',\n",
              " 'preprocessed_logs/logs_20240129.csv']"
            ]
          },
          "metadata": {},
          "execution_count": 13
        }
      ]
    }
  ]
}