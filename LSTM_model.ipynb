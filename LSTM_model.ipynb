{
  "nbformat": 4,
  "nbformat_minor": 0,
  "metadata": {
    "colab": {
      "provenance": []
    },
    "kernelspec": {
      "name": "python3",
      "display_name": "Python 3"
    },
    "language_info": {
      "name": "python"
    }
  },
  "cells": [
    {
      "cell_type": "code",
      "execution_count": null,
      "metadata": {
        "id": "j8KFDkdIc-wz"
      },
      "outputs": [],
      "source": [
        "# import libraries\n",
        "import os\n",
        "import pandas as pd\n",
        "import numpy as np\n",
        "from sklearn.preprocessing import MinMaxScaler\n",
        "import seaborn as sns\n",
        "sns.set(color_codes=True)\n",
        "import matplotlib.pyplot as plt\n",
        "%matplotlib inline\n",
        "\n",
        "from numpy.random import seed\n",
        "import tensorflow as tf\n",
        "\n",
        "\n",
        "from keras.layers import Input, Dropout, Dense, LSTM, TimeDistributed, RepeatVector\n",
        "from keras.models import Model\n",
        "from keras import regularizers\n",
        "from sklearn.cluster import KMeans, DBSCAN\n",
        "from sklearn.preprocessing import StandardScaler\n",
        "from sklearn.decomposition import PCA\n",
        "import matplotlib.cm as cm"
      ]
    },
    {
      "cell_type": "code",
      "source": [
        "extracted_dir_path = '/content/Identithem'\n",
        "if not os.path.exists(extracted_dir_path):\n",
        "    !git clone https://github.com/Identithem/Identithem.git\n",
        "else:\n",
        "    print(\"Directory already exists.\")\n",
        "\n",
        "%cd \"/content/Identithem\"\n",
        "!git pull"
      ],
      "metadata": {
        "colab": {
          "base_uri": "https://localhost:8080/"
        },
        "id": "0IaSEKxgdLZ6",
        "outputId": "4df046e0-5fd6-4b5f-f9fe-99fbf9682ea5"
      },
      "execution_count": null,
      "outputs": [
        {
          "output_type": "stream",
          "name": "stdout",
          "text": [
            "Cloning into 'Identithem'...\n",
            "remote: Enumerating objects: 82, done.\u001b[K\n",
            "remote: Counting objects: 100% (82/82), done.\u001b[K\n",
            "remote: Compressing objects: 100% (74/74), done.\u001b[K\n",
            "remote: Total 82 (delta 27), reused 0 (delta 0), pack-reused 0\u001b[K\n",
            "Receiving objects: 100% (82/82), 79.69 MiB | 17.29 MiB/s, done.\n",
            "Resolving deltas: 100% (27/27), done.\n",
            "/content/Identithem\n",
            "Already up to date.\n"
          ]
        }
      ]
    },
    {
      "cell_type": "code",
      "source": [
        "extracted_dir_path = '/content/Identithem/preprocessed_logs'\n",
        "if not os.path.exists(extracted_dir_path):\n",
        "    # If the directory does not exist, unzip the zip file\n",
        "    %cd \"/content/Identithem\"\n",
        "    !unzip \"preprocessed_logs.zip\"\n",
        "else:\n",
        "    print(\"Directory already exists. Skipping unzip process.\")"
      ],
      "metadata": {
        "colab": {
          "base_uri": "https://localhost:8080/"
        },
        "id": "pZob2O1pdOyj",
        "outputId": "3623c5b6-ded0-4b75-accf-4ddf912a6048"
      },
      "execution_count": null,
      "outputs": [
        {
          "output_type": "stream",
          "name": "stdout",
          "text": [
            "/content/Identithem\n",
            "Archive:  preprocessed_logs.zip\n",
            "  inflating: preprocessed_logs/logs_20240122.csv  \n",
            "  inflating: preprocessed_logs/logs_20240123.csv  \n",
            "  inflating: preprocessed_logs/logs_20240124.csv  \n",
            "  inflating: preprocessed_logs/logs_20240125.csv  \n",
            "  inflating: preprocessed_logs/logs_20240126.csv  \n",
            "  inflating: preprocessed_logs/logs_20240127.csv  \n",
            "  inflating: preprocessed_logs/logs_20240128.csv  \n",
            "  inflating: preprocessed_logs/logs_20240129.csv  \n"
          ]
        }
      ]
    },
    {
      "cell_type": "code",
      "source": [
        "WINDOW_SIZE=10\n",
        "# device = torch.device(\"cuda\" if torch.cuda.is_available() else \"cpu\")"
      ],
      "metadata": {
        "id": "Tm7IzyaeSuy-"
      },
      "execution_count": null,
      "outputs": []
    },
    {
      "cell_type": "code",
      "source": [
        "def create_windows(dataset):\n",
        "  num_features = len(dataset.columns) - 1 # index column will be removed\n",
        "  num_samples = len(dataset)\n",
        "\n",
        "  # Initialize list to store sequences\n",
        "  sequences = []\n",
        "  indices = []\n",
        "\n",
        "  # Iterate through the dataset with a sliding window\n",
        "  for i in range(num_samples - WINDOW_SIZE + 1):\n",
        "      # Extract sequence of samples\n",
        "      sequence = dataset[i:i+WINDOW_SIZE]\n",
        "      index_values = sequence.pop('index').tolist()\n",
        "      # Append sequence to list\n",
        "      sequences.append(sequence)\n",
        "      indices.append(index_values)\n",
        "\n",
        "  # Convert sequences to numpy array\n",
        "  sequences_array = np.array(sequences)\n",
        "\n",
        "  # Reshape sequences array to [samples, timesteps, features]\n",
        "  seq_train = sequences_array.reshape(-1, WINDOW_SIZE, num_features)\n",
        "\n",
        "  return seq_train, indices\n",
        "\n",
        "\n",
        "def pad_window(dataset):\n",
        "  index_value = dataset.pop('index').tolist()\n",
        "\n",
        "  num_features = len(dataset.columns)\n",
        "\n",
        "  window = np.array(dataset)\n",
        "\n",
        "  arrays_to_add = WINDOW_SIZE - len(window)\n",
        "\n",
        "  # Create arrays filled with zeros to add\n",
        "  additional_arrays = [np.zeros_like(window[0]) for _ in range(arrays_to_add)]\n",
        "\n",
        "  # Concatenate the input arrays with additional arrays\n",
        "  window = np.concatenate((window, additional_arrays), axis=0)\n",
        "\n",
        "  return window, index_value + [None] * arrays_to_add"
      ],
      "metadata": {
        "id": "q0yxwJnaSzTW"
      },
      "execution_count": null,
      "outputs": []
    },
    {
      "cell_type": "code",
      "source": [
        "def generate(df):\n",
        "  df['index'] = df.index\n",
        "  grouped_df = df.groupby('ip')\n",
        "  ip_dataframes = {}\n",
        "  inputs = []\n",
        "  ips = []\n",
        "  indices_list = []\n",
        "\n",
        "  for ip, group in grouped_df:\n",
        "      ip_dataframes[ip] = group.set_index('ip')\n",
        "\n",
        "  for ip, ip_df in ip_dataframes.items():\n",
        "    if len(ip_df)>1:\n",
        "      if len(ip_df)>WINDOW_SIZE:\n",
        "        windows, indices = create_windows(ip_df)\n",
        "        for window, idx in zip(windows, indices):\n",
        "          inputs.append(window)\n",
        "          ips.append(ip)\n",
        "          indices_list.append(idx)\n",
        "      elif len(ip_df)==WINDOW_SIZE:\n",
        "        idx = ip_df.pop('index').tolist()\n",
        "        window = np.array(ip_df)\n",
        "        inputs.append(window)\n",
        "        ips.append(ip)\n",
        "        indices_list.append(idx)\n",
        "      else:\n",
        "        window, indices = pad_window(ip_df)\n",
        "        inputs.append(window)\n",
        "        ips.append(ip)\n",
        "        indices_list.append(indices)\n",
        "\n",
        "  print('Number of sequences:', len(inputs))\n",
        "  print('Number of IPs:', len(list(set(ips))))\n",
        "  dataset = np.array(inputs)\n",
        "\n",
        "  # dataset = TensorDataset(torch.tensor(inputs, dtype=torch.float), torch.tensor(inputs, dtype=torch.float))\n",
        "  return dataset, indices_list"
      ],
      "metadata": {
        "id": "67JGusTIS0SM"
      },
      "execution_count": null,
      "outputs": []
    },
    {
      "cell_type": "code",
      "source": [
        "# train = pd.read_csv(\"/content/Identithem/identithem_logs_normal_onefile.csv\")\n",
        "# test = pd.read_csv(\"/content/Identithem/preprocessed_logs/logs_20240123.csv\")\n",
        "train = pd.read_csv(\"/content/identithem_logs_normal_onefile_day1.csv\")\n",
        "test = pd.read_csv(\"/content/test.csv\")\n",
        "print(\"Train DataFrame shape:\", train.shape)\n",
        "print(\"Test DataFrame shape:\", test.shape)"
      ],
      "metadata": {
        "colab": {
          "base_uri": "https://localhost:8080/"
        },
        "id": "3AVfBCEHiUJK",
        "outputId": "4b341097-db8e-4b02-f8a1-32f4228d9c66"
      },
      "execution_count": null,
      "outputs": [
        {
          "output_type": "stream",
          "name": "stdout",
          "text": [
            "Train DataFrame shape: (26774, 26)\n",
            "Test DataFrame shape: (337356, 26)\n"
          ]
        }
      ]
    },
    {
      "cell_type": "code",
      "source": [
        "X_train, train_indices = generate(train)\n",
        "X_test, test_indices = generate(test)"
      ],
      "metadata": {
        "colab": {
          "base_uri": "https://localhost:8080/"
        },
        "id": "B91Wp8DQTS1N",
        "outputId": "8e79ade7-2d3a-4bbc-c7b3-a9b4755e6eac"
      },
      "execution_count": null,
      "outputs": [
        {
          "output_type": "stream",
          "name": "stdout",
          "text": [
            "Number of sequences: 23636\n",
            "Number of IPs: 450\n",
            "Number of sequences: 300281\n",
            "Number of IPs: 5691\n"
          ]
        }
      ]
    },
    {
      "cell_type": "code",
      "source": [
        "xtrain = X_train.copy()\n",
        "xtest = X_test.copy()"
      ],
      "metadata": {
        "id": "p99iOKF1zePD"
      },
      "execution_count": null,
      "outputs": []
    },
    {
      "cell_type": "code",
      "source": [
        "# normalize the data\n",
        "scaler = MinMaxScaler()\n",
        "train_reshaped = xtrain.reshape(-1, xtrain.shape[2])\n",
        "X_train = scaler.fit_transform(train_reshaped)\n",
        "X_train = X_train.reshape(xtrain.shape)\n",
        "test_reshaped = xtest.reshape(-1, xtest.shape[2])\n",
        "X_test = scaler.transform(test_reshaped)\n",
        "X_test = X_test.reshape(xtest.shape)"
      ],
      "metadata": {
        "id": "yoqNwjuthBIH"
      },
      "execution_count": null,
      "outputs": []
    },
    {
      "cell_type": "code",
      "source": [
        "print(\"Training data shape:\", X_train.shape)\n",
        "print(\"Test data shape:\", X_test.shape)"
      ],
      "metadata": {
        "colab": {
          "base_uri": "https://localhost:8080/"
        },
        "id": "lQkG5w0-enlT",
        "outputId": "5c1ced62-3231-47ff-fb7c-b6d8d1101815"
      },
      "execution_count": null,
      "outputs": [
        {
          "output_type": "stream",
          "name": "stdout",
          "text": [
            "Training data shape: (23636, 10, 25)\n",
            "Test data shape: (300281, 10, 25)\n"
          ]
        }
      ]
    },
    {
      "cell_type": "code",
      "source": [
        "def autoencoder_model(X):\n",
        "    inputs = Input(shape=(X.shape[1], X.shape[2]))\n",
        "    # Encoder\n",
        "    L1 = LSTM(2, activation='relu', return_sequences=False, # 50\n",
        "              kernel_regularizer=regularizers.l2(0.0))(inputs)\n",
        "    # Repeat the vector to match the input sequence length\n",
        "    L2 = RepeatVector(X.shape[1])(L1)\n",
        "    # Decoder\n",
        "    L3 = LSTM(2, activation='relu', return_sequences=True)(L2)\n",
        "    # Output layer\n",
        "    output = TimeDistributed(Dense(X.shape[2]))(L3)\n",
        "    model = Model(inputs=inputs, outputs=output)\n",
        "    return model"
      ],
      "metadata": {
        "id": "ukQQsUEmfEBz"
      },
      "execution_count": null,
      "outputs": []
    },
    {
      "cell_type": "code",
      "source": [
        "model = autoencoder_model(X_train)\n",
        "model.compile(optimizer='adam', loss='mse')\n",
        "model.summary()"
      ],
      "metadata": {
        "colab": {
          "base_uri": "https://localhost:8080/"
        },
        "id": "weMp2lZOfEud",
        "outputId": "ac2af1e9-930b-4d8c-8c40-ff4f517156ea"
      },
      "execution_count": null,
      "outputs": [
        {
          "output_type": "stream",
          "name": "stdout",
          "text": [
            "Model: \"model\"\n",
            "_________________________________________________________________\n",
            " Layer (type)                Output Shape              Param #   \n",
            "=================================================================\n",
            " input_1 (InputLayer)        [(None, 10, 25)]          0         \n",
            "                                                                 \n",
            " lstm (LSTM)                 (None, 2)                 224       \n",
            "                                                                 \n",
            " repeat_vector (RepeatVecto  (None, 10, 2)             0         \n",
            " r)                                                              \n",
            "                                                                 \n",
            " lstm_1 (LSTM)               (None, 10, 2)             40        \n",
            "                                                                 \n",
            " time_distributed (TimeDist  (None, 10, 25)            75        \n",
            " ributed)                                                        \n",
            "                                                                 \n",
            "=================================================================\n",
            "Total params: 339 (1.32 KB)\n",
            "Trainable params: 339 (1.32 KB)\n",
            "Non-trainable params: 0 (0.00 Byte)\n",
            "_________________________________________________________________\n"
          ]
        }
      ]
    },
    {
      "cell_type": "code",
      "source": [
        "nb_epochs = 10\n",
        "batch_size = 64\n",
        "history = model.fit(X_train, X_train, epochs=nb_epochs, batch_size=batch_size, validation_split=0.05).history"
      ],
      "metadata": {
        "colab": {
          "base_uri": "https://localhost:8080/"
        },
        "id": "X-XNd9CdfJan",
        "outputId": "de6ad05d-3d23-48d8-c6ed-c13d3510c020"
      },
      "execution_count": null,
      "outputs": [
        {
          "output_type": "stream",
          "name": "stdout",
          "text": [
            "Epoch 1/10\n",
            "351/351 [==============================] - 9s 16ms/step - loss: 0.1957 - val_loss: 0.1083\n",
            "Epoch 2/10\n",
            "351/351 [==============================] - 4s 11ms/step - loss: 0.0820 - val_loss: 0.0534\n",
            "Epoch 3/10\n",
            "351/351 [==============================] - 4s 10ms/step - loss: 0.0387 - val_loss: 0.0363\n",
            "Epoch 4/10\n",
            "351/351 [==============================] - 4s 12ms/step - loss: 0.0240 - val_loss: 0.0316\n",
            "Epoch 5/10\n",
            "351/351 [==============================] - 5s 14ms/step - loss: 0.0199 - val_loss: 0.0302\n",
            "Epoch 6/10\n",
            "351/351 [==============================] - 4s 12ms/step - loss: 0.0189 - val_loss: 0.0299\n",
            "Epoch 7/10\n",
            "351/351 [==============================] - 4s 11ms/step - loss: 0.0185 - val_loss: 0.0329\n",
            "Epoch 8/10\n",
            "351/351 [==============================] - 6s 16ms/step - loss: 0.0181 - val_loss: 0.0371\n",
            "Epoch 9/10\n",
            "351/351 [==============================] - 4s 11ms/step - loss: 0.0179 - val_loss: 0.0392\n",
            "Epoch 10/10\n",
            "351/351 [==============================] - 4s 11ms/step - loss: 0.0178 - val_loss: 0.0401\n"
          ]
        }
      ]
    },
    {
      "cell_type": "code",
      "source": [
        "# plot the training losses\n",
        "fig, ax = plt.subplots(figsize=(14, 6), dpi=80)\n",
        "ax.plot(history['loss'], 'b', label='Train', linewidth=2)\n",
        "ax.plot(history['val_loss'], 'r', label='Validation', linewidth=2)\n",
        "ax.set_title('Model loss', fontsize=16)\n",
        "ax.set_ylabel('MSE Loss')\n",
        "ax.set_xlabel('Epoch')\n",
        "ax.legend(loc='upper right')\n",
        "plt.show()"
      ],
      "metadata": {
        "id": "iEybnuNHfMwS",
        "colab": {
          "base_uri": "https://localhost:8080/",
          "height": 464
        },
        "outputId": "e8d8e8ab-f4e4-4e15-8e92-113015fbbc1d"
      },
      "execution_count": null,
      "outputs": [
        {
          "output_type": "display_data",
          "data": {
            "text/plain": [
              "<Figure size 1120x480 with 1 Axes>"
            ],
            "image/png": "[encoded data removed]"
          },
          "metadata": {}
        }
      ]
    },
    {
      "cell_type": "code",
      "source": [
        "X_pred = model.predict(X_train)\n",
        "# scored = pd.DataFrame()"
      ],
      "metadata": {
        "colab": {
          "base_uri": "https://localhost:8080/"
        },
        "id": "vN2tQzmKmpF1",
        "outputId": "ba14a8bc-a055-49d2-af13-0c2b3715b2cb"
      },
      "execution_count": null,
      "outputs": [
        {
          "output_type": "stream",
          "name": "stdout",
          "text": [
            "739/739 [==============================] - 4s 5ms/step\n"
          ]
        }
      ]
    },
    {
      "cell_type": "code",
      "source": [
        "X_pred_test = model.predict(X_test)"
      ],
      "metadata": {
        "colab": {
          "base_uri": "https://localhost:8080/"
        },
        "id": "TddL7pUuupN7",
        "outputId": "aef41ad2-dea1-44a0-a805-6ed1cd77c6a3"
      },
      "execution_count": null,
      "outputs": [
        {
          "output_type": "stream",
          "name": "stdout",
          "text": [
            "9384/9384 [==============================] - 43s 5ms/step\n"
          ]
        }
      ]
    },
    {
      "cell_type": "code",
      "source": [
        "from sklearn.metrics import mean_squared_error\n",
        "train_losses = []\n",
        "\n",
        "for i in range(len(X_pred)):\n",
        "    pred_sample = X_pred[i]\n",
        "    train_sample = X_train[i]\n",
        "\n",
        "    # Reshape the samples if needed\n",
        "    pred_sample_flat = pred_sample.reshape(-1)\n",
        "    train_sample_flat = train_sample.reshape(-1)\n",
        "\n",
        "    # Calculate Mean Squared Error (MSE)\n",
        "    mse_loss = mean_squared_error(train_sample_flat, pred_sample_flat)\n",
        "    train_losses.append(mse_loss)"
      ],
      "metadata": {
        "id": "ddebSA3W3XbC"
      },
      "execution_count": null,
      "outputs": []
    },
    {
      "cell_type": "code",
      "source": [
        "print(np.mean(train_losses))\n",
        "print(np.min(train_losses),np.max(train_losses))"
      ],
      "metadata": {
        "colab": {
          "base_uri": "https://localhost:8080/"
        },
        "id": "4W0QWsPGnCUs",
        "outputId": "aa7012a5-4aed-4ac0-f6b3-6c50dbf27f39"
      },
      "execution_count": null,
      "outputs": [
        {
          "output_type": "stream",
          "name": "stdout",
          "text": [
            "0.01887773145363639\n",
            "0.0032425710618077448 0.18903239072015005\n"
          ]
        }
      ]
    },
    {
      "cell_type": "code",
      "source": [
        "test_losses = []\n",
        "\n",
        "for i in range(len(X_pred_test)):\n",
        "    pred_sample = X_pred_test[i]\n",
        "    test_sample = X_test[i]\n",
        "\n",
        "    # Reshape the samples if needed\n",
        "    pred_sample_flat = pred_sample.reshape(-1)\n",
        "    test_sample_flat = test_sample.reshape(-1)\n",
        "\n",
        "    # Calculate Mean Squared Error (MSE)\n",
        "    mse_loss = mean_squared_error(test_sample_flat, pred_sample_flat)\n",
        "    test_losses.append(mse_loss)"
      ],
      "metadata": {
        "id": "mpHNCr6F01tq"
      },
      "execution_count": null,
      "outputs": []
    },
    {
      "cell_type": "code",
      "source": [
        "print(np.mean(test_losses))\n",
        "print(np.min(test_losses),np.max(test_losses))"
      ],
      "metadata": {
        "colab": {
          "base_uri": "https://localhost:8080/"
        },
        "id": "NCd3dcjznYip",
        "outputId": "f57057de-5c8d-462a-bd6b-4cde7ab87384"
      },
      "execution_count": null,
      "outputs": [
        {
          "output_type": "stream",
          "name": "stdout",
          "text": [
            "174.17006402068643\n",
            "0.03935122244769474 12838.770641807754\n"
          ]
        }
      ]
    },
    {
      "cell_type": "code",
      "source": [
        "# Plot histogram\n",
        "plt.hist(train_losses, bins=100, color='skyblue', edgecolor='black')\n",
        "\n",
        "# Add labels and title\n",
        "plt.xlabel('Train Loss')\n",
        "plt.ylabel('Frequency')\n",
        "plt.title('Train Loss Distribution')\n",
        "\n",
        "# Show plot\n",
        "plt.show()"
      ],
      "metadata": {
        "colab": {
          "base_uri": "https://localhost:8080/",
          "height": 480
        },
        "id": "iUjC75EhUL94",
        "outputId": "ff65cda4-ab92-4512-9730-87ffd9344fbb"
      },
      "execution_count": null,
      "outputs": [
        {
          "output_type": "display_data",
          "data": {
            "text/plain": [
              "<Figure size 640x480 with 1 Axes>"
            ],
            "image/png": "[encoded data removed]"
          },
          "metadata": {}
        }
      ]
    },
    {
      "cell_type": "code",
      "source": [
        "# Plot histogram\n",
        "plt.hist(test_losses, bins=100, color='skyblue', edgecolor='black')\n",
        "\n",
        "# Add labels and title\n",
        "plt.xlabel('Test Loss')\n",
        "plt.ylabel('Frequency')\n",
        "plt.title('Test Loss Distribution')\n",
        "\n",
        "# Show plot\n",
        "plt.show()"
      ],
      "metadata": {
        "colab": {
          "base_uri": "https://localhost:8080/",
          "height": 480
        },
        "id": "Q-PMKrX22Zex",
        "outputId": "0073ddf5-0271-4573-ae44-19f49e253274"
      },
      "execution_count": null,
      "outputs": [
        {
          "output_type": "display_data",
          "data": {
            "text/plain": [
              "<Figure size 640x480 with 1 Axes>"
            ],
            "image/png": "[encoded data removed]"
          },
          "metadata": {}
        }
      ]
    },
    {
      "cell_type": "code",
      "source": [
        "def sigmoid(x):\n",
        "    return 1 / (1 + np.exp(-x))\n",
        "\n",
        "def threshold_based_scoring(losses, train_losses):\n",
        "    max_train_losses = np.max(train_losses)\n",
        "\n",
        "    threshold = np.median([x for x in test_losses if x>max_train_losses])\n",
        "\n",
        "    losses = np.array(losses)\n",
        "\n",
        "    scores = np.zeros_like(losses, dtype=float)\n",
        "\n",
        "    # Only consider losses above the threshold\n",
        "    above_threshold = losses > threshold\n",
        "    adjusted_losses = losses[above_threshold] - threshold  # Shift losses to start from the threshold\n",
        "\n",
        "    # Apply the sigmoid function to the adjusted losses\n",
        "    sigmoid_scores = sigmoid(adjusted_losses)\n",
        "\n",
        "    # Assign sigmoid scores to the corresponding positions\n",
        "    scores[above_threshold] = sigmoid_scores\n",
        "\n",
        "    return scores"
      ],
      "metadata": {
        "id": "aLfZQ4Fi4lxi"
      },
      "execution_count": null,
      "outputs": []
    },
    {
      "cell_type": "code",
      "source": [
        "anomaly_scores = threshold_based_scoring(test_losses, train_losses)"
      ],
      "metadata": {
        "id": "JMQA1b1c3Ose"
      },
      "execution_count": null,
      "outputs": []
    },
    {
      "cell_type": "code",
      "source": [
        "min(anomaly_scores), max(anomaly_scores)"
      ],
      "metadata": {
        "colab": {
          "base_uri": "https://localhost:8080/"
        },
        "id": "sq1Sl30zxKvC",
        "outputId": "9fba7859-4e27-47ba-97d9-83c0bdad1c5e"
      },
      "execution_count": null,
      "outputs": [
        {
          "output_type": "execute_result",
          "data": {
            "text/plain": [
              "(0.0, 1.0)"
            ]
          },
          "metadata": {},
          "execution_count": 90
        }
      ]
    },
    {
      "cell_type": "code",
      "source": [
        "scored = pd.DataFrame(index=range(len(test_losses)))\n",
        "scored['Log lines'] = test_indices\n",
        "ip = [test['ip'][scored['Log lines'][i][0]] for i in range(len(scored))]\n",
        "scored['ip'] = ip\n",
        "scored['Loss_mse'] = test_losses\n",
        "scored['Anomaly score'] = anomaly_scores\n",
        "# scored['Threshold'] = 0.3 # Change accordingly\n",
        "# scored['Anomaly'] = scored['Anomaly score'] > scored['Threshold']\n",
        "# scored[scored[\"Anomaly\"]== True]"
      ],
      "metadata": {
        "id": "x4BKV3W3v6BS"
      },
      "execution_count": null,
      "outputs": []
    },
    {
      "cell_type": "code",
      "source": [
        "scored.to_csv(\"sequence_anomaly_scores.csv\", index=True)"
      ],
      "metadata": {
        "id": "388BKgoeJ8aa"
      },
      "execution_count": null,
      "outputs": []
    },
    {
      "cell_type": "code",
      "source": [
        "scored[scored[\"Anomaly\"]== True]['ip'].nunique()"
      ],
      "metadata": {
        "colab": {
          "base_uri": "https://localhost:8080/"
        },
        "id": "q-PLRjxaRcwb",
        "outputId": "f9cb6b7d-05e3-4167-ee4d-0cc86c66f191"
      },
      "execution_count": null,
      "outputs": [
        {
          "output_type": "execute_result",
          "data": {
            "text/plain": [
              "1071"
            ]
          },
          "metadata": {},
          "execution_count": 93
        }
      ]
    },
    {
      "cell_type": "code",
      "source": [
        "anomaly_ips = scored.groupby('ip')\n",
        "seqs_per_ip = anomaly_ips.size()\n",
        "anomaly_count = anomaly_ips['Anomaly'].sum()\n",
        "anomalies_per_ip = pd.DataFrame({'Sequences Count': seqs_per_ip, 'Anomaly Count': anomaly_count})"
      ],
      "metadata": {
        "id": "rybK8VDNVb6r"
      },
      "execution_count": null,
      "outputs": []
    },
    {
      "cell_type": "code",
      "source": [
        "anomalies_per_ip[anomalies_per_ip['Anomaly Count']>0]"
      ],
      "metadata": {
        "colab": {
          "base_uri": "https://localhost:8080/",
          "height": 455
        },
        "id": "BI71QB9xXNOc",
        "outputId": "5ee9d233-a81f-4e61-a2f5-2aafa72b0509"
      },
      "execution_count": null,
      "outputs": [
        {
          "output_type": "execute_result",
          "data": {
            "text/plain": [
              "              Sequences Count  Anomaly Count\n",
              "ip                                          \n",
              "381488                      1              1\n",
              "835162                    120             10\n",
              "3208896                     1              1\n",
              "3238705                     1              1\n",
              "3816687                     7              4\n",
              "...                       ...            ...\n",
              "130255166142                1              1\n",
              "173239224181                1              1\n",
              "174129131202                1              1\n",
              "201231246143               82              6\n",
              "220181108176                1              1\n",
              "\n",
              "[1071 rows x 2 columns]"
            ],
            "text/html": [
              "\n",
              "  <div id=\"df-658f9b09-55c3-40aa-8ea8-8a558d535f95\" class=\"colab-df-container\">\n",
              "    <div>\n",
              "<style scoped>\n",
              "    .dataframe tbody tr th:only-of-type {\n",
              "        vertical-align: middle;\n",
              "    }\n",
              "\n",
              "    .dataframe tbody tr th {\n",
              "        vertical-align: top;\n",
              "    }\n",
              "\n",
              "    .dataframe thead th {\n",
              "        text-align: right;\n",
              "    }\n",
              "</style>\n",
              "<table border=\"1\" class=\"dataframe\">\n",
              "  <thead>\n",
              "    <tr style=\"text-align: right;\">\n",
              "      <th></th>\n",
              "      <th>Sequences Count</th>\n",
              "      <th>Anomaly Count</th>\n",
              "    </tr>\n",
              "    <tr>\n",
              "      <th>ip</th>\n",
              "      <th></th>\n",
              "      <th></th>\n",
              "    </tr>\n",
              "  </thead>\n",
              "  <tbody>\n",
              "    <tr>\n",
              "      <th>381488</th>\n",
              "      <td>1</td>\n",
              "      <td>1</td>\n",
              "    </tr>\n",
              "    <tr>\n",
              "      <th>835162</th>\n",
              "      <td>120</td>\n",
              "      <td>10</td>\n",
              "    </tr>\n",
              "    <tr>\n",
              "      <th>3208896</th>\n",
              "      <td>1</td>\n",
              "      <td>1</td>\n",
              "    </tr>\n",
              "    <tr>\n",
              "      <th>3238705</th>\n",
              "      <td>1</td>\n",
              "      <td>1</td>\n",
              "    </tr>\n",
              "    <tr>\n",
              "      <th>3816687</th>\n",
              "      <td>7</td>\n",
              "      <td>4</td>\n",
              "    </tr>\n",
              "    <tr>\n",
              "      <th>...</th>\n",
              "      <td>...</td>\n",
              "      <td>...</td>\n",
              "    </tr>\n",
              "    <tr>\n",
              "      <th>130255166142</th>\n",
              "      <td>1</td>\n",
              "      <td>1</td>\n",
              "    </tr>\n",
              "    <tr>\n",
              "      <th>173239224181</th>\n",
              "      <td>1</td>\n",
              "      <td>1</td>\n",
              "    </tr>\n",
              "    <tr>\n",
              "      <th>174129131202</th>\n",
              "      <td>1</td>\n",
              "      <td>1</td>\n",
              "    </tr>\n",
              "    <tr>\n",
              "      <th>201231246143</th>\n",
              "      <td>82</td>\n",
              "      <td>6</td>\n",
              "    </tr>\n",
              "    <tr>\n",
              "      <th>220181108176</th>\n",
              "      <td>1</td>\n",
              "      <td>1</td>\n",
              "    </tr>\n",
              "  </tbody>\n",
              "</table>\n",
              "<p>1071 rows × 2 columns</p>\n",
              "</div>\n",
              "    <div class=\"colab-df-buttons\">\n",
              "\n",
              "  <div class=\"colab-df-container\">\n",
              "    <button class=\"colab-df-convert\" onclick=\"convertToInteractive('df-658f9b09-55c3-40aa-8ea8-8a558d535f95')\"\n",
              "            title=\"Convert this dataframe to an interactive table.\"\n",
              "            style=\"display:none;\">\n",
              "\n",
              "  <svg xmlns=\"http://www.w3.org/2000/svg\" height=\"24px\" viewBox=\"0 -960 960 960\">\n",
              "    <path d=\"M120-120v-720h720v720H120Zm60-500h600v-160H180v160Zm220 220h160v-160H400v160Zm0 220h160v-160H400v160ZM180-400h160v-160H180v160Zm440 0h160v-160H620v160ZM180-180h160v-160H180v160Zm440 0h160v-160H620v160Z\"/>\n",
              "  </svg>\n",
              "    </button>\n",
              "\n",
              "  <style>\n",
              "    .colab-df-container {\n",
              "      display:flex;\n",
              "      gap: 12px;\n",
              "    }\n",
              "\n",
              "    .colab-df-convert {\n",
              "      background-color: #E8F0FE;\n",
              "      border: none;\n",
              "      border-radius: 50%;\n",
              "      cursor: pointer;\n",
              "      display: none;\n",
              "      fill: #1967D2;\n",
              "      height: 32px;\n",
              "      padding: 0 0 0 0;\n",
              "      width: 32px;\n",
              "    }\n",
              "\n",
              "    .colab-df-convert:hover {\n",
              "      background-color: #E2EBFA;\n",
              "      box-shadow: 0px 1px 2px rgba(60, 64, 67, 0.3), 0px 1px 3px 1px rgba(60, 64, 67, 0.15);\n",
              "      fill: #174EA6;\n",
              "    }\n",
              "\n",
              "    .colab-df-buttons div {\n",
              "      margin-bottom: 4px;\n",
              "    }\n",
              "\n",
              "    [theme=dark] .colab-df-convert {\n",
              "      background-color: #3B4455;\n",
              "      fill: #D2E3FC;\n",
              "    }\n",
              "\n",
              "    [theme=dark] .colab-df-convert:hover {\n",
              "      background-color: #434B5C;\n",
              "      box-shadow: 0px 1px 3px 1px rgba(0, 0, 0, 0.15);\n",
              "      filter: drop-shadow(0px 1px 2px rgba(0, 0, 0, 0.3));\n",
              "      fill: #FFFFFF;\n",
              "    }\n",
              "  </style>\n",
              "\n",
              "    <script>\n",
              "      const buttonEl =\n",
              "        document.querySelector('#df-658f9b09-55c3-40aa-8ea8-8a558d535f95 button.colab-df-convert');\n",
              "      buttonEl.style.display =\n",
              "        google.colab.kernel.accessAllowed ? 'block' : 'none';\n",
              "\n",
              "      async function convertToInteractive(key) {\n",
              "        const element = document.querySelector('#df-658f9b09-55c3-40aa-8ea8-8a558d535f95');\n",
              "        const dataTable =\n",
              "          await google.colab.kernel.invokeFunction('convertToInteractive',\n",
              "                                                    [key], {});\n",
              "        if (!dataTable) return;\n",
              "\n",
              "        const docLinkHtml = 'Like what you see? Visit the ' +\n",
              "          '<a target=\"_blank\" href=https://colab.research.google.com/notebooks/data_table.ipynb>data table notebook</a>'\n",
              "          + ' to learn more about interactive tables.';\n",
              "        element.innerHTML = '';\n",
              "        dataTable['output_type'] = 'display_data';\n",
              "        await google.colab.output.renderOutput(dataTable, element);\n",
              "        const docLink = document.createElement('div');\n",
              "        docLink.innerHTML = docLinkHtml;\n",
              "        element.appendChild(docLink);\n",
              "      }\n",
              "    </script>\n",
              "  </div>\n",
              "\n",
              "\n",
              "<div id=\"df-1e7e0058-a142-41ec-ba05-364ab505d616\">\n",
              "  <button class=\"colab-df-quickchart\" onclick=\"quickchart('df-1e7e0058-a142-41ec-ba05-364ab505d616')\"\n",
              "            title=\"Suggest charts\"\n",
              "            style=\"display:none;\">\n",
              "\n",
              "<svg xmlns=\"http://www.w3.org/2000/svg\" height=\"24px\"viewBox=\"0 0 24 24\"\n",
              "     width=\"24px\">\n",
              "    <g>\n",
              "        <path d=\"M19 3H5c-1.1 0-2 .9-2 2v14c0 1.1.9 2 2 2h14c1.1 0 2-.9 2-2V5c0-1.1-.9-2-2-2zM9 17H7v-7h2v7zm4 0h-2V7h2v10zm4 0h-2v-4h2v4z\"/>\n",
              "    </g>\n",
              "</svg>\n",
              "  </button>\n",
              "\n",
              "<style>\n",
              "  .colab-df-quickchart {\n",
              "      --bg-color: #E8F0FE;\n",
              "      --fill-color: #1967D2;\n",
              "      --hover-bg-color: #E2EBFA;\n",
              "      --hover-fill-color: #174EA6;\n",
              "      --disabled-fill-color: #AAA;\n",
              "      --disabled-bg-color: #DDD;\n",
              "  }\n",
              "\n",
              "  [theme=dark] .colab-df-quickchart {\n",
              "      --bg-color: #3B4455;\n",
              "      --fill-color: #D2E3FC;\n",
              "      --hover-bg-color: #434B5C;\n",
              "      --hover-fill-color: #FFFFFF;\n",
              "      --disabled-bg-color: #3B4455;\n",
              "      --disabled-fill-color: #666;\n",
              "  }\n",
              "\n",
              "  .colab-df-quickchart {\n",
              "    background-color: var(--bg-color);\n",
              "    border: none;\n",
              "    border-radius: 50%;\n",
              "    cursor: pointer;\n",
              "    display: none;\n",
              "    fill: var(--fill-color);\n",
              "    height: 32px;\n",
              "    padding: 0;\n",
              "    width: 32px;\n",
              "  }\n",
              "\n",
              "  .colab-df-quickchart:hover {\n",
              "    background-color: var(--hover-bg-color);\n",
              "    box-shadow: 0 1px 2px rgba(60, 64, 67, 0.3), 0 1px 3px 1px rgba(60, 64, 67, 0.15);\n",
              "    fill: var(--button-hover-fill-color);\n",
              "  }\n",
              "\n",
              "  .colab-df-quickchart-complete:disabled,\n",
              "  .colab-df-quickchart-complete:disabled:hover {\n",
              "    background-color: var(--disabled-bg-color);\n",
              "    fill: var(--disabled-fill-color);\n",
              "    box-shadow: none;\n",
              "  }\n",
              "\n",
              "  .colab-df-spinner {\n",
              "    border: 2px solid var(--fill-color);\n",
              "    border-color: transparent;\n",
              "    border-bottom-color: var(--fill-color);\n",
              "    animation:\n",
              "      spin 1s steps(1) infinite;\n",
              "  }\n",
              "\n",
              "  @keyframes spin {\n",
              "    0% {\n",
              "      border-color: transparent;\n",
              "      border-bottom-color: var(--fill-color);\n",
              "      border-left-color: var(--fill-color);\n",
              "    }\n",
              "    20% {\n",
              "      border-color: transparent;\n",
              "      border-left-color: var(--fill-color);\n",
              "      border-top-color: var(--fill-color);\n",
              "    }\n",
              "    30% {\n",
              "      border-color: transparent;\n",
              "      border-left-color: var(--fill-color);\n",
              "      border-top-color: var(--fill-color);\n",
              "      border-right-color: var(--fill-color);\n",
              "    }\n",
              "    40% {\n",
              "      border-color: transparent;\n",
              "      border-right-color: var(--fill-color);\n",
              "      border-top-color: var(--fill-color);\n",
              "    }\n",
              "    60% {\n",
              "      border-color: transparent;\n",
              "      border-right-color: var(--fill-color);\n",
              "    }\n",
              "    80% {\n",
              "      border-color: transparent;\n",
              "      border-right-color: var(--fill-color);\n",
              "      border-bottom-color: var(--fill-color);\n",
              "    }\n",
              "    90% {\n",
              "      border-color: transparent;\n",
              "      border-bottom-color: var(--fill-color);\n",
              "    }\n",
              "  }\n",
              "</style>\n",
              "\n",
              "  <script>\n",
              "    async function quickchart(key) {\n",
              "      const quickchartButtonEl =\n",
              "        document.querySelector('#' + key + ' button');\n",
              "      quickchartButtonEl.disabled = true;  // To prevent multiple clicks.\n",
              "      quickchartButtonEl.classList.add('colab-df-spinner');\n",
              "      try {\n",
              "        const charts = await google.colab.kernel.invokeFunction(\n",
              "            'suggestCharts', [key], {});\n",
              "      } catch (error) {\n",
              "        console.error('Error during call to suggestCharts:', error);\n",
              "      }\n",
              "      quickchartButtonEl.classList.remove('colab-df-spinner');\n",
              "      quickchartButtonEl.classList.add('colab-df-quickchart-complete');\n",
              "    }\n",
              "    (() => {\n",
              "      let quickchartButtonEl =\n",
              "        document.querySelector('#df-1e7e0058-a142-41ec-ba05-364ab505d616 button');\n",
              "      quickchartButtonEl.style.display =\n",
              "        google.colab.kernel.accessAllowed ? 'block' : 'none';\n",
              "    })();\n",
              "  </script>\n",
              "</div>\n",
              "    </div>\n",
              "  </div>\n"
            ],
            "application/vnd.google.colaboratory.intrinsic+json": {
              "type": "dataframe",
              "summary": "{\n  \"name\": \"anomalies_per_ip[anomalies_per_ip['Anomaly Count']>0]\",\n  \"rows\": 1071,\n  \"fields\": [\n    {\n      \"column\": \"ip\",\n      \"properties\": {\n        \"dtype\": \"number\",\n        \"std\": 20006678753,\n        \"min\": 381488,\n        \"max\": 220181108176,\n        \"num_unique_values\": 1071,\n        \"samples\": [\n          372913388,\n          3420472155,\n          543614859\n        ],\n        \"semantic_type\": \"\",\n        \"description\": \"\"\n      }\n    },\n    {\n      \"column\": \"Sequences Count\",\n      \"properties\": {\n        \"dtype\": \"number\",\n        \"std\": 326,\n        \"min\": 1,\n        \"max\": 7383,\n        \"num_unique_values\": 98,\n        \"samples\": [\n          1359,\n          32,\n          6416\n        ],\n        \"semantic_type\": \"\",\n        \"description\": \"\"\n      }\n    },\n    {\n      \"column\": \"Anomaly Count\",\n      \"properties\": {\n        \"dtype\": \"number\",\n        \"std\": 273,\n        \"min\": 1,\n        \"max\": 6416,\n        \"num_unique_values\": 44,\n        \"samples\": [\n          29,\n          22,\n          56\n        ],\n        \"semantic_type\": \"\",\n        \"description\": \"\"\n      }\n    }\n  ]\n}"
            }
          },
          "metadata": {},
          "execution_count": 95
        }
      ]
    }
  ]
}